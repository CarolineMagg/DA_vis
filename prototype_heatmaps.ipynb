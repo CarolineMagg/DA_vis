{
 "cells": [
  {
   "cell_type": "markdown",
   "metadata": {},
   "source": [
    "# Heatmaps\n",
    "First prototypes <br>\n",
    "date: Nov 2, 2021"
   ]
  },
  {
   "cell_type": "code",
   "execution_count": null,
   "metadata": {},
   "outputs": [],
   "source": [
    "%config Completer.use_jedi = False\n",
    "%matplotlib inline"
   ]
  },
  {
   "cell_type": "code",
   "execution_count": null,
   "metadata": {},
   "outputs": [],
   "source": [
    "import numpy as np\n",
    "import pandas as pd\n",
    "import cv2\n",
    "import copy\n",
    "import time\n",
    "import ast\n",
    "import json\n",
    "import tensorflow as tf\n",
    "from sklearn.metrics import confusion_matrix\n",
    "import plotly.express as px\n",
    "import plotly.graph_objects as go\n",
    "from plotly.subplots import make_subplots\n",
    "import plotly.figure_factory as ff"
   ]
  },
  {
   "cell_type": "code",
   "execution_count": null,
   "metadata": {},
   "outputs": [],
   "source": [
    "import sys\n",
    "import os\n",
    "\n",
    "sys.path.append(os.path.abspath('../data_utils'))\n",
    "sys.path.append(os.path.abspath('../models'))"
   ]
  },
  {
   "cell_type": "code",
   "execution_count": null,
   "metadata": {},
   "outputs": [],
   "source": [
    "from model_zoo.utils import check_gpu\n",
    "from model_zoo.losses.dice import DiceLoss, DiceCoefficient\n",
    "from data_utils.DataContainer import DataContainer\n",
    "from data_utils.TestSet import TestSet"
   ]
  },
  {
   "cell_type": "code",
   "execution_count": null,
   "metadata": {},
   "outputs": [],
   "source": [
    "import logging\n",
    "logging.basicConfig(level=logging.INFO)"
   ]
  },
  {
   "cell_type": "markdown",
   "metadata": {},
   "source": [
    "# TestSet"
   ]
  },
  {
   "cell_type": "code",
   "execution_count": null,
   "metadata": {},
   "outputs": [],
   "source": [
    "MODELS_SIMPLE1 = [\"XNet_T2_relu\", \"XNet_T2_leaky\", \"XNet_T2_selu\"]\n",
    "MODELS_SIMPLE2 = [\"XNet_T1_relu\", \"XNet_T1_leaky\", \"XNet_T1_selu\"]\n",
    "MODELS_SIMPLE = [*MODELS_SIMPLE2, *MODELS_SIMPLE1]\n",
    "MODELS_CG = [\"CG_XNet_T1_relu\", \"CG_XNet_T2_relu\"]\n",
    "MODELS_DA = [\"SegmS2T_GAN1_relu\", \"SegmS2T_GAN2_relu\", \"SegmS2T_GAN5_relu\"]\n",
    "MODELS_GAN = [\"GAN_1+XNet_T1_relu\", \"GAN_2+XNet_T1_relu\", \"GAN_5+XNet_T1_relu\"]\n",
    "MODELS = [*MODELS_SIMPLE, *MODELS_CG, *MODELS_GAN, *MODELS_DA]\n",
    "MODELS_BASELINE = [*MODELS_SIMPLE, *MODELS_CG]\n",
    "MODELS_DA = [*MODELS_DA, *MODELS_GAN]"
   ]
  },
  {
   "cell_type": "code",
   "execution_count": null,
   "metadata": {},
   "outputs": [],
   "source": [
    "testset = TestSet(\"/tf/workdir/data/VS_segm/VS_registered/test_processed/\", load=True)"
   ]
  },
  {
   "cell_type": "code",
   "execution_count": null,
   "metadata": {},
   "outputs": [],
   "source": [
    "df_total = testset.df_total\n",
    "intermediate = df_total.to_json()\n",
    "df_total = pd.read_json(intermediate)"
   ]
  },
  {
   "cell_type": "code",
   "execution_count": null,
   "metadata": {},
   "outputs": [],
   "source": [
    "df_total"
   ]
  },
  {
   "cell_type": "markdown",
   "metadata": {},
   "source": [
    "# First overview heatmap"
   ]
  },
  {
   "cell_type": "code",
   "execution_count": null,
   "metadata": {},
   "outputs": [],
   "source": [
    "slice_type=\"only_tumor\"\n",
    "slider_values = [0,1.0]\n",
    "metric = \"DSC\"\n",
    "patient_id = 200"
   ]
  },
  {
   "cell_type": "code",
   "execution_count": null,
   "metadata": {},
   "outputs": [],
   "source": [
    "models = testset.all_models\n",
    "models = models[:3]\n",
    "models.append(\"Baseline\")\n",
    "models"
   ]
  },
  {
   "cell_type": "code",
   "execution_count": null,
   "metadata": {},
   "outputs": [],
   "source": [
    "base_colorscale = {\"DSC\": [*px.colors.sequential.Plasma],\n",
    "                  \"ASSD\": [*px.colors.sequential.Plasma_r],\n",
    "                  \"ACC\": [*px.colors.sequential.Plasma],\n",
    "                  \"TPR\": [*px.colors.sequential.Plasma],\n",
    "                  \"TNR\": [*px.colors.sequential.Plasma]\n",
    "                  }\n",
    "lookup_color = base_colorscale[metric]\n",
    "\n",
    "steps = (slider_values[1]-slider_values[0])/9\n",
    "colorscale = []\n",
    "if slider_values[0] != 0:\n",
    "    colorscale.append([0, lookup_color[0]])\n",
    "for idx, x in enumerate(np.arange(slider_values[0],slider_values[1],steps)):\n",
    "    colorscale.append([x/1, lookup_color[idx]])\n",
    "colorscale.append([slider_values[1]/1, lookup_color[-1]])\n",
    "if slider_values[1] != 1:\n",
    "    colorscale.append([1, lookup_color[-1]])"
   ]
  },
  {
   "cell_type": "code",
   "execution_count": null,
   "metadata": {},
   "outputs": [],
   "source": [
    "df_total = pd.read_json(intermediate)\n",
    "lookup = {\"DSC\": f\"dice_{slice_type}\",\n",
    "          \"ASSD\": f\"assd_{slice_type}\",\n",
    "          \"ACC\": f\"acc_{slice_type}\",\n",
    "          \"TPR\": f\"tpr_{slice_type}\",\n",
    "          \"TNR\": f\"tnr_{slice_type}\"}\n",
    "df_metric = pd.DataFrame(df_total.iloc[0][lookup[metric]])\n",
    "df_metric.head()"
   ]
  },
  {
   "cell_type": "code",
   "execution_count": null,
   "metadata": {},
   "outputs": [],
   "source": [
    "if \"All\" not in models:\n",
    "    models_selected = [\"id\"] + models\n",
    "    print(models_selected)\n",
    "    if \"Baseline\" in models:\n",
    "        models_selected += [m for m in MODELS_BASELINE]\n",
    "        models_selected.remove(\"Baseline\")\n",
    "        print(models_selected)\n",
    "    if \"DA\" in models:\n",
    "        models_selected += [m for m in MODELS_DA]\n",
    "        models_selected.remove(\"DA\")\n",
    "        print(models_selected)\n",
    "    seen = set()\n",
    "    models_selected = [x for x in models_selected if not (x in seen or seen.add(x))]\n",
    "    print(models_selected)\n",
    "    df_metric = df_metric[models_selected]\n",
    "models_selected = list(df_metric.columns)[1:]"
   ]
  },
  {
   "cell_type": "code",
   "execution_count": null,
   "metadata": {},
   "outputs": [],
   "source": [
    "selected_ids = ['204','205','206']\n",
    "idx_selected2 = [int(idx) for idx, row in df_metric.iterrows() if row[\"id\"] in selected_ids] + [len(df_metric)-1]\n",
    "idx_selected = [int(idx) for idx, row in df_metric.iterrows() if row[\"id\"] not in selected_ids][:-1]# + [len(df_metric)-1]\n",
    "df_metric.iloc[idx_selected, 1:] = np.NaN"
   ]
  },
  {
   "cell_type": "code",
   "execution_count": null,
   "metadata": {},
   "outputs": [],
   "source": [
    "df_metric.head()"
   ]
  },
  {
   "cell_type": "code",
   "execution_count": null,
   "metadata": {},
   "outputs": [],
   "source": [
    "x = list(df_metric.columns[1:])\n",
    "y = list(df_metric[\"id\"].values[:-1])\n",
    "z = [list(df_metric.iloc[idx][1:].values) for idx in range(len(df_metric)-1)]\n",
    "\n",
    "hovertext = list()\n",
    "for yi, yy in enumerate(y):\n",
    "    hovertext.append(list())\n",
    "    for xi, xx in enumerate(x):\n",
    "        hovertext[-1].append(\n",
    "            'Model: {}<br />ID: {}<br />{}: {}'.format(xx, yy, metric, np.round(z[yi][xi], decimals=5)))"
   ]
  },
  {
   "cell_type": "code",
   "execution_count": null,
   "metadata": {},
   "outputs": [],
   "source": [
    "df_metric2 = df_metric\n",
    "df_metric2 = df_metric2.fillna(value=1)\n",
    "df_metric2.iloc[idx_selected2, 1:] = np.NaN\n",
    "colorscale_nan = px.colors.colorbrewer.Greys[0:2]#px.colors.colorbrewer.Greys_r\n",
    "x2 = list(df_metric2.columns[1:])\n",
    "y2 = list(df_metric2[\"id\"].values[:-1])\n",
    "z2 = [list(df_metric2.iloc[idx][1:].values) for idx in range(len(df_metric2)-1)]"
   ]
  },
  {
   "cell_type": "code",
   "execution_count": null,
   "metadata": {},
   "outputs": [],
   "source": [
    "fig = make_subplots(rows=2, cols=1, \n",
    "                    row_heights=[0.1, 0.9], vertical_spacing=0.05, shared_xaxes=True )\n",
    "\n",
    "trace = ff.create_annotated_heatmap(x=list(df_metric.columns)[1:],\n",
    "                                    y=[\"mean\"],\n",
    "                                    z=[list(df_metric.iloc[-1][1:].values)],\n",
    "                                    hoverinfo='skip',\n",
    "                                    coloraxis=\"coloraxis\",\n",
    "                                    annotation_text=[\n",
    "                                        [np.round(x, 3) for x in list(df_metric.iloc[-1][1:].values)]])\n",
    "fig.add_trace(trace.data[0],\n",
    "              1,1)\n",
    "fig.layout.update(trace.layout)\n",
    "fig.add_trace(go.Heatmap(\n",
    "                x=x,\n",
    "                y=y,\n",
    "                z=z,\n",
    "                hoverongaps=False,\n",
    "                hoverinfo='text',\n",
    "                text=hovertext,\n",
    "                coloraxis = \"coloraxis\"), 2,1)\n",
    "fig.add_trace(go.Heatmap(\n",
    "                x=x2,\n",
    "                y=y2,\n",
    "                z=z2,\n",
    "                hoverongaps=False,\n",
    "                hoverinfo='skip',\n",
    "                colorscale=colorscale_nan,\n",
    "showscale=False),2,1)\n",
    "\n",
    "fig.update_layout(xaxis2 = {'showticklabels': False},\n",
    "                 xaxis1 = {'side': 'top', 'showticklabels': True},\n",
    "                 yaxis2 = {'title': 'Patient ID'})\n",
    "fig.update_layout(coloraxis = {'colorscale': colorscale, \n",
    "                               'colorbar': dict(title=metric, tickvals=np.arange(0,1,0.1), tickmode=\"array\")})\n",
    "fig.update_layout(margin=dict(l=5,\n",
    "                                r=5,\n",
    "                                b=5,\n",
    "                                t=150,\n",
    "                                pad=4),\n",
    "                  title=\"Something\")                  \n",
    "fig.show()"
   ]
  },
  {
   "cell_type": "code",
   "execution_count": null,
   "metadata": {},
   "outputs": [],
   "source": []
  },
  {
   "cell_type": "markdown",
   "metadata": {},
   "source": [
    "# First detail heatmap"
   ]
  },
  {
   "cell_type": "code",
   "execution_count": null,
   "metadata": {},
   "outputs": [],
   "source": [
    "slice_type = \"only_tumor\"\n",
    "metric = \"ASSD\"\n",
    "models = [\"DA\"]"
   ]
  },
  {
   "cell_type": "code",
   "execution_count": null,
   "metadata": {},
   "outputs": [],
   "source": [
    "def select_model_detail_list(models):\n",
    "    models_selected = None\n",
    "    if \"All\" not in models:\n",
    "        models_selected = [\"slice\", \"VS_class_gt\"] + models\n",
    "        if \"Baseline\" in models:\n",
    "            models_selected += [m for m in MODELS_BASELINE]\n",
    "            models_selected.remove(\"Baseline\")\n",
    "        if \"DA\" in models:\n",
    "            models_selected += [m for m in MODELS_DA]\n",
    "            models_selected.remove(\"DA\")\n",
    "        seen = set()\n",
    "        models_selected = [x for x in models_selected if not (x in seen or seen.add(x))]\n",
    "    return models_selected"
   ]
  },
  {
   "cell_type": "code",
   "execution_count": null,
   "metadata": {},
   "outputs": [],
   "source": [
    "def get_colorscale_tickvals(metric, slider_values, slider_max):\n",
    "    # define colorscale and tickvals\n",
    "    lookup_color = reversed([*px.colors.sequential.Plasma]) if metric == \"ASSD\" else [*px.colors.sequential.Plasma]\n",
    "    steps = (slider_values[1] - slider_values[0]) / 9\n",
    "    colorscale = []\n",
    "    if slider_values[0] != 0:\n",
    "        colorscale.append([0, lookup_color[0]])\n",
    "    for idx, x in enumerate(np.arange(slider_values[0], slider_values[1], steps)):\n",
    "        colorscale.append([x / slider_max, lookup_color[idx]])\n",
    "    colorscale.append([slider_values[1] / slider_max, lookup_color[-1]])\n",
    "    if slider_values[1] != 1:\n",
    "        colorscale.append([1, lookup_color[-1]])\n",
    "    tickvals = np.arange(0, slider_max, 20) if metric == \"ASSD\" else np.arange(0, 1, 0.1)\n",
    "    return colorscale, tickvals"
   ]
  },
  {
   "cell_type": "code",
   "execution_count": null,
   "metadata": {},
   "outputs": [],
   "source": [
    "df = pd.read_json(f\"/tf/workdir/data/VS_segm/VS_registered/test_processed/vs_gk_{patient_id}/evaluation.json\")\n",
    "\n",
    "if metric in [\"DSC\", \"ASSD\"]:\n",
    "    lookup = {\"DSC\": \"dice\", \"ASSD\": \"assd\"}\n",
    "    cols = [c for c in df.columns if lookup[metric] in c]\n",
    "    df_metric = df[[\"slice\", \"VS_class_gt\"]+cols]\n",
    "    df_metric.rename(columns={k:k.split(\"-\")[-1] for k in cols}, inplace=True)\n",
    "    models_selected = select_model_detail_list(models)\n",
    "    if models_selected is not None:\n",
    "        df_metric = df_metric[models_selected]\n",
    "    if slice_type == \"only_tumor\":\n",
    "        df_metric = df_metric[df_metric[\"VS_class_gt\"] == 1]\n",
    "    df_metric.drop(columns=[\"VS_class_gt\"], inplace=True)\n",
    "    df_metric = df_metric.append({\"slice\": metric, **dict(df_metric.mean()[1:])}, ignore_index=True)\n",
    "\n",
    "elif metric in [\"ACC\", \"TPR\", \"TNR\"]:\n",
    "    cols = [c for c in df.columns if \"class_pred-\" in c]\n",
    "    df_metric = df[[\"slice\", \"VS_class_gt\"]+cols]\n",
    "    df_metric.rename(columns={k:k.split(\"-\")[-1] for k in cols}, inplace=True)\n",
    "    models_selected = select_model_detail_list(models)\n",
    "    if models_selected is not None:\n",
    "        df_metric = df_metric[models_selected]\n",
    "    if slice_type == \"only_tumor\":\n",
    "            df_metric = df_metric[df_metric[\"VS_class_gt\"] == 1]\n",
    "    lookup = {\"ACC\": TestSet().calculate_accuracy,\n",
    "         \"TPR\": TestSet().calculate_tpr,\n",
    "         \"TNR\": TestSet().calculate_tnr}\n",
    "    model_cols = list(df_metric.columns)[2:]\n",
    "    values = [TestSet().calculate_accuracy(confusion_matrix(df_metric[\"VS_class_gt\"].values, x[1].values, labels=[0,1]).ravel()) for x in df_metric[model_cols].items()]\n",
    "    df_metric.drop(columns=[\"VS_class_gt\"], inplace=True)\n",
    "    df_metric = df_metric.append({\"slice\": metric, **{k:v for k,v in zip(model_cols, values)}}, ignore_index=True)\n"
   ]
  },
  {
   "cell_type": "code",
   "execution_count": null,
   "metadata": {},
   "outputs": [],
   "source": [
    "df_metric"
   ]
  },
  {
   "cell_type": "code",
   "execution_count": null,
   "metadata": {},
   "outputs": [],
   "source": [
    "info = df_metric.to_json()\n",
    "\n",
    "df_metric = pd.read_json(info)\n",
    "metric = df_metric.iloc[-1][\"slice\"]\n",
    "df_metric"
   ]
  },
  {
   "cell_type": "code",
   "execution_count": null,
   "metadata": {},
   "outputs": [],
   "source": [
    "selected_ids = ['30','31','34', '35']\n",
    "idx_selected2 = [int(idx) for idx, row in df_metric.iterrows() if str(row[\"slice\"]) in selected_ids] + [len(df_metric)-1]\n",
    "df_metric = df_metric.iloc[idx_selected2, :]"
   ]
  },
  {
   "cell_type": "code",
   "execution_count": null,
   "metadata": {},
   "outputs": [],
   "source": [
    "idx_selected2"
   ]
  },
  {
   "cell_type": "code",
   "execution_count": null,
   "metadata": {},
   "outputs": [],
   "source": [
    "df_metric"
   ]
  },
  {
   "cell_type": "code",
   "execution_count": null,
   "metadata": {},
   "outputs": [],
   "source": [
    "# define colorscale and tickvals\n",
    "lookup_color = list(reversed([*px.colors.sequential.Plasma])) if metric == \"ASSD\" else [*px.colors.sequential.Plasma]\n",
    "steps = (slider_values[1] - slider_values[0]) / 9\n",
    "colorscale = []\n",
    "if slider_values[0] != 0:\n",
    "    colorscale.append([0, lookup_color[0]])\n",
    "for idx, x in enumerate(np.arange(slider_values[0], slider_values[1], steps)):\n",
    "    colorscale.append([x / 1, lookup_color[idx]])\n",
    "colorscale.append([slider_values[1] / 1, lookup_color[-1]])\n",
    "if slider_values[1] != 1:\n",
    "    colorscale.append([1, lookup_color[-1]])\n",
    "tickvals = np.arange(0, 362, 20) if metric == \"ASSD\" else np.arange(0, 1, 0.1)"
   ]
  },
  {
   "cell_type": "code",
   "execution_count": null,
   "metadata": {},
   "outputs": [],
   "source": [
    "# create figure\n",
    "fig = make_subplots(rows=2, cols=1,\n",
    "                    row_heights=[0.1, 0.9], vertical_spacing=0.05, shared_xaxes=True)\n",
    "# create annotated heatmap with total values\n",
    "round_dec = 2 if len(df_metric.columns) >= 8 else 3\n",
    "trace = ff.create_annotated_heatmap(x=list(df_metric.columns)[1:],\n",
    "                                    y=[\"mean\"],\n",
    "                                    z=[list(df_metric.iloc[-1][1:].values)],\n",
    "                                    hoverinfo='skip',\n",
    "                                    coloraxis=\"coloraxis\",\n",
    "                                    annotation_text=[\n",
    "                                        [np.round(x, round_dec) for x in list(df_metric.iloc[-1][1:].values)]])\n",
    "fig.add_trace(trace.data[0],\n",
    "              1, 1)\n",
    "fig.layout.update(trace.layout)\n",
    "\n",
    "# prepare x,y,z for heatmap\n",
    "x = list(df_metric.columns)[1:]\n",
    "y = [str(x) for x in list(df_metric[\"slice\"].values[:-1])]\n",
    "z = [list(df_metric.iloc[idx][1:].values) for idx in range(len(df_metric) - 1)]\n",
    "# create hovertext\n",
    "hovertext = list()\n",
    "for yi, yy in enumerate(y):\n",
    "    hovertext.append(list())\n",
    "    for xi, xx in enumerate(x):\n",
    "        hovertext[-1].append(\n",
    "            'Model: {}<br />Slice: {}<br />{}: {}'.format(xx, yy, metric, np.round(z[yi][xi], decimals=5)))"
   ]
  },
  {
   "cell_type": "code",
   "execution_count": null,
   "metadata": {},
   "outputs": [],
   "source": [
    "# heatmap for patient data\n",
    "fig.add_trace(go.Heatmap(x=x,\n",
    "                         y=y,\n",
    "                         z=z,\n",
    "                         hoverongaps=True,\n",
    "                         hoverinfo='text',\n",
    "                         text=hovertext,\n",
    "                         coloraxis=\"coloraxis\"), 2, 1);\n",
    "\n",
    "# update layout\n",
    "fig.update_layout(xaxis2={'showticklabels': False},\n",
    "                  xaxis1={'side': 'top', 'showticklabels': True},\n",
    "                  yaxis2={'title': 'Patient ID'},\n",
    "                  coloraxis={'colorscale': colorscale,\n",
    "                             'colorbar': dict(title=metric, tickvals=tickvals, tickmode=\"array\")},\n",
    "                  margin=dict(l=5,\n",
    "                              r=5,\n",
    "                              b=5,\n",
    "                              t=5,\n",
    "                              pad=4)\n",
    "                  )"
   ]
  },
  {
   "cell_type": "code",
   "execution_count": null,
   "metadata": {},
   "outputs": [],
   "source": []
  },
  {
   "cell_type": "code",
   "execution_count": null,
   "metadata": {},
   "outputs": [],
   "source": []
  }
 ],
 "metadata": {
  "kernelspec": {
   "display_name": "Python 3",
   "language": "python",
   "name": "python3"
  },
  "language_info": {
   "codemirror_mode": {
    "name": "ipython",
    "version": 3
   },
   "file_extension": ".py",
   "mimetype": "text/x-python",
   "name": "python",
   "nbconvert_exporter": "python",
   "pygments_lexer": "ipython3",
   "version": "3.6.9"
  }
 },
 "nbformat": 4,
 "nbformat_minor": 2
}
