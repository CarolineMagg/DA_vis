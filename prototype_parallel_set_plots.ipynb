{
 "cells": [
  {
   "cell_type": "markdown",
   "metadata": {},
   "source": [
    "# Parallel coordinate plots"
   ]
  },
  {
   "cell_type": "code",
   "execution_count": null,
   "metadata": {},
   "outputs": [],
   "source": [
    "%config Completer.use_jedi = False\n",
    "%matplotlib inline"
   ]
  },
  {
   "cell_type": "code",
   "execution_count": null,
   "metadata": {},
   "outputs": [],
   "source": [
    "import numpy as np\n",
    "import pandas as pd\n",
    "import cv2\n",
    "import copy\n",
    "import time\n",
    "import ast\n",
    "import json\n",
    "import tensorflow as tf\n",
    "from sklearn.metrics import confusion_matrix\n",
    "import plotly.express as px\n",
    "import plotly.graph_objects as go\n",
    "from plotly.subplots import make_subplots\n",
    "import plotly.figure_factory as ff\n",
    "from natsort import natsorted"
   ]
  },
  {
   "cell_type": "code",
   "execution_count": null,
   "metadata": {},
   "outputs": [],
   "source": [
    "import sys\n",
    "import os\n",
    "\n",
    "sys.path.append(os.path.abspath('../data_utils'))\n",
    "sys.path.append(os.path.abspath('../models'))"
   ]
  },
  {
   "cell_type": "code",
   "execution_count": null,
   "metadata": {},
   "outputs": [],
   "source": [
    "from model_zoo.utils import check_gpu\n",
    "from model_zoo.losses.dice import DiceLoss, DiceCoefficient\n",
    "from data_utils.DataContainer import DataContainer\n",
    "from data_utils.TestSet import TestSet"
   ]
  },
  {
   "cell_type": "code",
   "execution_count": null,
   "metadata": {},
   "outputs": [],
   "source": [
    "import logging\n",
    "logging.basicConfig(level=logging.INFO)"
   ]
  },
  {
   "cell_type": "markdown",
   "metadata": {},
   "source": [
    "# TestSet"
   ]
  },
  {
   "cell_type": "code",
   "execution_count": null,
   "metadata": {},
   "outputs": [],
   "source": [
    "MODELS_SIMPLE1 = [\"XNet_T2_relu\", \"XNet_T2_leaky\", \"XNet_T2_selu\"]\n",
    "MODELS_SIMPLE2 = [\"XNet_T1_relu\", \"XNet_T1_leaky\", \"XNet_T1_selu\"]\n",
    "MODELS_SIMPLE = [*MODELS_SIMPLE1, *MODELS_SIMPLE2]\n",
    "MODELS_CG = [\"CG_XNet_T1_relu\", \"CG_XNet_T2_relu\"]\n",
    "MODELS_DA = [\"SegmS2T_GAN1_relu\", \"SegmS2T_GAN2_relu\", \"SegmS2T_GAN5_relu\",\n",
    "             \"CG_SegmS2T_GAN1_relu\", \"CG_SegmS2T_GAN2_relu\", \"CG_SegmS2T_GAN5_relu\"]\n",
    "MODELS_GAN = [\"GAN_1+XNet_T1_relu\", \"GAN_2+XNet_T1_relu\", \"GAN_5+XNet_T1_relu\",\n",
    "              \"GAN_1+CG_XNet_T1_relu\", \"GAN_2+CG_XNet_T1_relu\", \"GAN_5+CG_XNet_T1_relu\"]\n",
    "MODELS = [*MODELS_SIMPLE, *MODELS_CG, *MODELS_GAN, *MODELS_DA]"
   ]
  },
  {
   "cell_type": "code",
   "execution_count": null,
   "metadata": {},
   "outputs": [],
   "source": [
    "testset = TestSet(\"/tf/workdir/data/VS_segm/VS_registered/test_processed/\", load=True)"
   ]
  },
  {
   "cell_type": "code",
   "execution_count": null,
   "metadata": {},
   "outputs": [],
   "source": [
    "df_total = testset.df_total\n",
    "df_signature = testset.df_signature_3d\n",
    "intermediate = df_total.to_json()\n",
    "df_total = pd.read_json(intermediate)\n",
    "intermediate = df_signature.to_json()\n",
    "df_signature = pd.read_json(intermediate)"
   ]
  },
  {
   "cell_type": "code",
   "execution_count": null,
   "metadata": {},
   "outputs": [],
   "source": [
    "df_total"
   ]
  },
  {
   "cell_type": "code",
   "execution_count": null,
   "metadata": {},
   "outputs": [],
   "source": [
    "df_signature.tail()"
   ]
  },
  {
   "cell_type": "code",
   "execution_count": null,
   "metadata": {},
   "outputs": [],
   "source": [
    "list(df_signature.columns)"
   ]
  },
  {
   "cell_type": "code",
   "execution_count": null,
   "metadata": {},
   "outputs": [],
   "source": []
  },
  {
   "cell_type": "markdown",
   "metadata": {},
   "source": [
    "# Features 3D"
   ]
  },
  {
   "cell_type": "code",
   "execution_count": null,
   "metadata": {},
   "outputs": [],
   "source": [
    "models = MODELS_DA\n",
    "features = \"shape\" \n",
    "metric = \"dice\"\n",
    "dataset= \"all\""
   ]
  },
  {
   "cell_type": "markdown",
   "metadata": {},
   "source": [
    "## Error metrics"
   ]
  },
  {
   "cell_type": "code",
   "execution_count": null,
   "metadata": {},
   "outputs": [],
   "source": [
    "metrics = [\"dice\", \"assd\", \"acc\", \"tnr\", \"tpr\"]\n",
    "datasets = [\"all\", \"only_tumor\"]"
   ]
  },
  {
   "cell_type": "code",
   "execution_count": null,
   "metadata": {},
   "outputs": [],
   "source": [
    "df_performance = pd.DataFrame()\n",
    "df_performance[\"id\"] = list(df_total[\"dice_all\"][0][\"id\"].values())[:-1]\n",
    "values = [3,2,1]\n",
    "values_ascending = dict(enumerate(values, 1))\n",
    "values_descending = dict(enumerate(reversed(values),1))\n",
    "dict_performance_bins = {}\n",
    "for m in metrics:\n",
    "    for d in datasets:\n",
    "        df_metric = pd.DataFrame(df_total[m+\"_\"+d][0])[[\"id\"]+models]\n",
    "        df_metric[\"mean_value\"] = df_metric.mean(axis=1)\n",
    "        bins = np.linspace(np.min(df_metric[\"mean_value\"]), np.nextafter(np.max(df_metric[\"mean_value\"]), np.inf), 4)\n",
    "        if \"assd\" in m:\n",
    "            df_metric[\"mean\"] = np.vectorize(values_descending.get)(np.digitize(df_metric[\"mean_value\"], bins=bins))\n",
    "        else:\n",
    "            df_metric[\"mean\"] = np.vectorize(values_ascending.get)(np.digitize(df_metric[\"mean_value\"], bins=bins))\n",
    "        df_performance[m+\"_\"+d] = df_metric.iloc[:-1][\"mean\"].values\n",
    "        if m+\"_\"+d not in dict_performance_bins.keys():\n",
    "            dict_performance_bins[m+\"_\"+d] = bins.tolist()"
   ]
  },
  {
   "cell_type": "code",
   "execution_count": null,
   "metadata": {},
   "outputs": [],
   "source": [
    "vals = [np.round(x, 3) for x in dict_performance_bins[\"dice_all\"]]\n",
    "bvals = [f\"{vals[i]}-{vals[i+1]}\" for i in range(len(vals)-1)]\n",
    "ticks = list(reversed([f\"{a}\\n({b})\" for a,b in zip([\"small\", \"medium\", \"large\"], bvals)]))\n",
    "ticks"
   ]
  },
  {
   "cell_type": "code",
   "execution_count": null,
   "metadata": {},
   "outputs": [],
   "source": []
  },
  {
   "cell_type": "markdown",
   "metadata": {},
   "source": [
    "## Radiomics Features"
   ]
  },
  {
   "cell_type": "code",
   "execution_count": null,
   "metadata": {},
   "outputs": [],
   "source": [
    "df_rad = df_signature[[\"id\"]+[c for c in df_signature.columns if c.split(\"-\")[0] in [\"shape\", \"firstorder\"]]]\n",
    "df_rad[\"id\"] = df_rad[\"id\"].apply(lambda x: str(x))\n",
    "df_rad.head()"
   ]
  },
  {
   "cell_type": "code",
   "execution_count": null,
   "metadata": {},
   "outputs": [],
   "source": [
    "featureKeys = list(df_rad.keys())\n",
    "featureKeys.remove(\"id\")\n",
    "featureKeys = [k.split(\"-\")[-1] for k in featureKeys]\n",
    "featureKeys"
   ]
  },
  {
   "cell_type": "code",
   "execution_count": null,
   "metadata": {},
   "outputs": [],
   "source": [
    "list_patient_ids = list(df_total[\"dice_all\"][0][\"id\"].values())[:-1];\n",
    "list_patient_ids_radiomics = [str(x) for x in df_signature[\"id\"].values]"
   ]
  },
  {
   "cell_type": "code",
   "execution_count": null,
   "metadata": {},
   "outputs": [],
   "source": [
    "remove_id = [int(r) for r in natsorted(list(set(list_patient_ids) - set(list_patient_ids_radiomics)))]\n",
    "remove_idx = []\n",
    "for idx, row in df_performance.iterrows():\n",
    "    try:\n",
    "        if int(row[\"id\"]) in remove_id:\n",
    "            remove_idx.append(idx)\n",
    "    except:\n",
    "        continue\n",
    "remove_idx"
   ]
  },
  {
   "cell_type": "code",
   "execution_count": null,
   "metadata": {},
   "outputs": [],
   "source": []
  },
  {
   "cell_type": "markdown",
   "metadata": {},
   "source": [
    "## Volumetric"
   ]
  },
  {
   "cell_type": "code",
   "execution_count": null,
   "metadata": {},
   "outputs": [],
   "source": [
    "df_volume = pd.DataFrame()\n",
    "for patient_id in testset.list_patient_ids:\n",
    "    df = pd.read_json(f\"/tf/workdir/data/VS_segm/VS_registered/test_processed/vs_gk_{patient_id}/evaluation.json\")\n",
    "    df_volume = df_volume.append({\"id\": patient_id,\n",
    "                \"slice_number\": len(df),\n",
    "                \"tumor_slice_number\": len(df[df[\"VS_class_gt\"] == 1])}, ignore_index=True)"
   ]
  },
  {
   "cell_type": "code",
   "execution_count": null,
   "metadata": {},
   "outputs": [],
   "source": [
    "bins = [0, 70, 79, 80]\n",
    "res = np.digitize(df_volume[\"slice_number\"], bins=bins)\n",
    "res"
   ]
  },
  {
   "cell_type": "code",
   "execution_count": null,
   "metadata": {},
   "outputs": [],
   "source": [
    "bins = [0,10,15,20]\n",
    "\n",
    "res = np.digitize(df_volume[\"tumor_slice_number\"], bins=bins)\n",
    "res"
   ]
  },
  {
   "cell_type": "code",
   "execution_count": null,
   "metadata": {},
   "outputs": [],
   "source": []
  },
  {
   "cell_type": "markdown",
   "metadata": {},
   "source": [
    "## Merge"
   ]
  },
  {
   "cell_type": "code",
   "execution_count": null,
   "metadata": {},
   "outputs": [],
   "source": [
    "type(df_volume.iloc[0][\"id\"]), type(df_performance.iloc[0][\"id\"]), type(df_rad.iloc[0][\"id\"])"
   ]
  },
  {
   "cell_type": "code",
   "execution_count": null,
   "metadata": {},
   "outputs": [],
   "source": [
    "df_new = df_volume.merge(df_performance.merge(df_rad, on=\"id\"), on=\"id\")\n",
    "df_new = df_new.fillna(value=0)\n",
    "df_new.head()"
   ]
  },
  {
   "cell_type": "code",
   "execution_count": null,
   "metadata": {},
   "outputs": [],
   "source": [
    "df_new.columns"
   ]
  },
  {
   "cell_type": "code",
   "execution_count": null,
   "metadata": {},
   "outputs": [],
   "source": []
  },
  {
   "cell_type": "markdown",
   "metadata": {},
   "source": [
    "## Test for app"
   ]
  },
  {
   "cell_type": "code",
   "execution_count": null,
   "metadata": {},
   "outputs": [],
   "source": [
    "df_total_json = testset.df_total.to_json()\n",
    "df_signature_json = testset.df_signature_3d.to_json()\n",
    "df_volume_json = testset.df_volume.to_json()"
   ]
  },
  {
   "cell_type": "code",
   "execution_count": null,
   "metadata": {},
   "outputs": [],
   "source": [
    "df_total = pd.read_json(df_total_json)\n",
    "df_signature = pd.read_json(df_signature_json)\n",
    "df_volume = pd.read_json(df_volume_json)\n",
    "models = MODELS_DA\n",
    "features = \"shape\"\n",
    "metric = \"dice\"\n",
    "dataset = \"all\"\n",
    "metrics = [\"dice\", \"assd\", \"acc\", \"tnr\", \"tpr\"]\n",
    "datasets = [\"all\", \"only_tumor\"]\n",
    "df_performance = pd.DataFrame()\n",
    "df_performance[\"id\"] = list(df_total[\"dice_all\"][0][\"id\"].values())[:-1]\n",
    "values = [3, 2, 1]\n",
    "values_ascending = dict(enumerate(values, 1))\n",
    "values_descending = dict(enumerate(reversed(values), 1))\n",
    "dict_performance_bins = {}\n",
    "for m in metrics:\n",
    "    for d in datasets:\n",
    "        df_metric = pd.DataFrame(df_total[m + \"_\" + d][0])[[\"id\"] + models]\n",
    "        df_metric[\"mean_value\"] = df_metric.mean(axis=1)\n",
    "        bins = np.linspace(np.min(df_metric[\"mean_value\"]),\n",
    "                           np.nextafter(np.max(df_metric[\"mean_value\"]), np.inf), 4)\n",
    "        if \"assd\" in m:\n",
    "            df_metric[\"mean\"] = np.vectorize(values_descending.get)(\n",
    "                np.digitize(df_metric[\"mean_value\"], bins=bins))\n",
    "        else:\n",
    "            df_metric[\"mean\"] = np.vectorize(values_ascending.get)(\n",
    "                np.digitize(df_metric[\"mean_value\"], bins=bins))\n",
    "        df_performance[m + \"_\" + d] = df_metric.iloc[:-1][\"mean\"].values\n",
    "        if m + \"_\" + d not in dict_performance_bins.keys():\n",
    "            dict_performance_bins[m + \"_\" + d] = bins.tolist()\n",
    "df_rad = df_signature[[\"id\"] + [c for c in df_signature.columns if c.split(\"-\")[0] in [\"shape\", \"firstorder\"]]]\n",
    "df_rad[\"id\"] = df_rad[\"id\"].apply(lambda x: str(x))\n",
    "featureKeys = list(df_rad.keys())\n",
    "featureKeys.remove(\"id\")\n",
    "featureKeys = [k.split(\"-\")[-1] for k in featureKeys]\n",
    "df_volume[\"id\"] = df_volume[\"id\"].apply(lambda x: str(x))\n",
    "df_new = df_volume.merge(df_performance.merge(df_rad, on=\"id\"), on=\"id\")\n",
    "df_new = df_new.fillna(value=0)"
   ]
  },
  {
   "cell_type": "code",
   "execution_count": null,
   "metadata": {
    "scrolled": true
   },
   "outputs": [],
   "source": [
    "list(df_new.columns)"
   ]
  },
  {
   "cell_type": "code",
   "execution_count": null,
   "metadata": {},
   "outputs": [],
   "source": []
  },
  {
   "cell_type": "markdown",
   "metadata": {},
   "source": [
    "# Parallel coordinate plot - overview"
   ]
  },
  {
   "cell_type": "code",
   "execution_count": null,
   "metadata": {},
   "outputs": [],
   "source": [
    "features = \"shape\"\n",
    "\n",
    "if features == \"firstorder\":\n",
    "    feat_list = [\"Energy\",\"Skewness\",\"Kurtosis\",\"Variance\",\"Range\"] # \"Entropy\", \"Uniformity\"\n",
    "elif features == \"shape\":\n",
    "    feat_list = [\"Elongation\",\"Flatness\",\"Sphericity\",\"SurfaceArea\",\"MeshVolume\"]\n",
    "elif features == \"performance\":\n",
    "    feat_list = ['dice_all', 'dice_only_tumor', 'assd_all', 'assd_only_tumor',\n",
    "                   'acc_all', 'acc_only_tumor', 'tnr_all', 'tpr_all',\n",
    "                   'tpr_only_tumor']\n",
    "    feat_list.remove(str(metric+\"_\"+dataset))\n",
    "\n",
    "feat_list"
   ]
  },
  {
   "cell_type": "code",
   "execution_count": null,
   "metadata": {},
   "outputs": [],
   "source": [
    "df_plot = pd.DataFrame()\n",
    "df_plot[\"id\"] = df_new[\"id\"]\n",
    "performance_col = metric+\"_\"+dataset\n",
    "df_plot[metric+\"_\"+dataset] = df_new[metric+\"_\"+dataset].values\n",
    "for fk in feat_list:\n",
    "    df_plot[fk] = df_new[[c for c in df_new.columns if fk in c][0]].values\n",
    "df_plot.head()"
   ]
  },
  {
   "cell_type": "code",
   "execution_count": null,
   "metadata": {},
   "outputs": [],
   "source": [
    "plot_cols = df_plot.columns.to_list()\n",
    "plot_cols.remove(\"id\")\n",
    "plot_cols"
   ]
  },
  {
   "cell_type": "code",
   "execution_count": null,
   "metadata": {},
   "outputs": [],
   "source": [
    "lookup_dict = {\"Energy\": dict(ticktext=['large', 'medium', 'small'], categoryarray=[3,2,1]),\n",
    "               #\"Entropy\": dict(ticktext=['large', 'medium', 'small'], categoryarray=[3,2,1]),\n",
    "               \"Skewness\": dict(ticktext=['pos', 'neg'], categoryarray=[2,1]),\n",
    "               \"Kurtosis\": dict(ticktext=['lepto', 'platy'], categoryarray=[2,1]),\n",
    "               #\"Uniformity\": dict(ticktext=['homogen+', 'homogen~','homogen-'], categoryarray=[3,2,1]),\n",
    "               \"Variance\": dict(ticktext=['large', 'medium', 'small'], categoryarray=[3,2,1]),\n",
    "               \"Elongation\": dict(ticktext=['>mean', '<=mean'], categoryarray=[2,1]),\n",
    "               \"Flatness\": dict(ticktext=['non-flat', 'flat'], categoryarray=[2,1]),\n",
    "               \"Sphericity\": dict(ticktext=['>mean', '<=mean'], categoryarray=[2,1]),\n",
    "               \"SurfaceArea\": dict(ticktext=['large', 'medium', 'small'], categoryarray=[3,2,1]),\n",
    "               \"MeshVolume\": dict(ticktext=['large', 'medium', 'small'], categoryarray=[3,2,1]),\n",
    "               \"Range\": dict(ticktext=['large', 'medium', 'small'], categoryarray=[3,2,1]),\n",
    "               \"dice_only_tumor\": dict(ticktext=[\"good\", \"medium\", \"bad\"], categoryarray=[1,2,3],\n",
    "                                      label=\"DSC tumor\"),\n",
    "               \"dice_all\": dict(ticktext=[\"good\", \"medium\", \"bad\"], categoryarray=[1,2,3],\n",
    "                                      label=\"DSC\"),\n",
    "               \"acc_only_tumor\": dict(ticktext=[\"good\", \"medium\", \"bad\"], categoryarray=[1,2,3],\n",
    "                                      label=\"ACC tumor\"),\n",
    "               \"acc_all\": dict(ticktext=[\"good\", \"medium\", \"bad\"], categoryarray=[1,2,3],\n",
    "                                      label=\"ACC\"),\n",
    "               \"assd_only_tumor\": dict(ticktext=[\"good\", \"medium\", \"bad\"], categoryarray=[1,2,3],\n",
    "                                      label=\"ASSD tumor\"),\n",
    "               \"assd_all\": dict(ticktext=[\"good\", \"medium\", \"bad\"], categoryarray=[1,2,3],\n",
    "                                      label=\"ASSD\"),\n",
    "               \"tpr_only_tumor\": dict(ticktext=[\"good\", \"medium\", \"bad\"], categoryarray=[1,2,3],\n",
    "                                      label=\"TPR tumor\"),\n",
    "               \"tpr_all\": dict(ticktext=[\"good\", \"medium\", \"bad\"], categoryarray=[1,2,3],\n",
    "                                      label=\"TPR\"),\n",
    "               #\"tnr_only_tumor\": dict(ticktext=['large', 'medium', 'small'], categoryarray=[3,2,1],\n",
    "               #                       label=\"TNR tumor\"),\n",
    "               \"tnr_all\": dict(ticktext=[\"good\", \"medium\", \"bad\"], categoryarray=[1,2,3],\n",
    "                                      label=\"TNR\")\n",
    "               }"
   ]
  },
  {
   "cell_type": "code",
   "execution_count": null,
   "metadata": {},
   "outputs": [],
   "source": [
    "# Create dimensions\n",
    "perf_dim = go.parcats.Dimension(\n",
    "    values=df_plot[performance_col], **lookup_dict[performance_col]\n",
    ")\n",
    "\n",
    "feature_dim = []\n",
    "for f in list(df_plot.keys())[2:]:\n",
    "    if \"label\" in lookup_dict[f].keys():\n",
    "        feature_dim.append(go.parcats.Dimension(values=df_plot[f], **lookup_dict[f]))\n",
    "    else:\n",
    "        feature_dim.append(go.parcats.Dimension(values=df_plot[f], label=f, **lookup_dict[f]))\n",
    "print(len(feature_dim))\n",
    "# Create parcats trace\n",
    "color = df_plot[performance_col]\n",
    "colorscale = [[0, 'mediumseagreen'], [1, 'lightsteelblue']];\n",
    "\n",
    "fig = go.Figure(data = [go.Parcats(dimensions=[perf_dim, *feature_dim[:4]],\n",
    "        line={'color': color, 'colorscale': colorscale}, bundlecolors=True,\n",
    "        hoveron='category', hoverinfo='count+probability',\n",
    "                                   arrangement='freeform')])\n",
    "fig.update_layout(margin=dict(l=5,\n",
    "                                      r=5,\n",
    "                                      b=5,\n",
    "                                      t=20,\n",
    "                                      pad=4)\n",
    "                          )\n",
    "fig.show()"
   ]
  },
  {
   "cell_type": "code",
   "execution_count": null,
   "metadata": {},
   "outputs": [],
   "source": []
  },
  {
   "cell_type": "code",
   "execution_count": null,
   "metadata": {},
   "outputs": [],
   "source": []
  },
  {
   "cell_type": "markdown",
   "metadata": {},
   "source": [
    "# Features 2D"
   ]
  },
  {
   "cell_type": "code",
   "execution_count": null,
   "metadata": {},
   "outputs": [],
   "source": [
    "from sklearn.metrics import confusion_matrix"
   ]
  },
  {
   "cell_type": "code",
   "execution_count": null,
   "metadata": {},
   "outputs": [],
   "source": [
    "patient_id = 205\n",
    "models = MODELS_DA\n",
    "features = \"shape\" \n",
    "metric = \"dice\"\n",
    "dataset= \"only_tumor\""
   ]
  },
  {
   "cell_type": "markdown",
   "metadata": {},
   "source": [
    "## Error metric"
   ]
  },
  {
   "cell_type": "code",
   "execution_count": null,
   "metadata": {},
   "outputs": [],
   "source": [
    "metrics = [\"dice\", \"assd\"]\n",
    "datasets = [\"all\", \"only_tumor\"]"
   ]
  },
  {
   "cell_type": "code",
   "execution_count": null,
   "metadata": {},
   "outputs": [],
   "source": [
    "df_total = pd.read_json(f\"/tf/workdir/data/VS_segm/VS_registered/test_processed/vs_gk_{patient_id}/evaluation.json\")\n",
    "df_total.tail()"
   ]
  },
  {
   "cell_type": "code",
   "execution_count": null,
   "metadata": {},
   "outputs": [],
   "source": [
    "def calculate_accuracy(conf_mat):\n",
    "    if type(conf_mat) == dict:\n",
    "        return (conf_mat[\"tp\"] + conf_mat[\"tn\"]) / (\n",
    "                    conf_mat[\"tp\"] + conf_mat[\"tn\"] + conf_mat[\"fp\"] + conf_mat[\"fn\"])\n",
    "    else:\n",
    "        return (conf_mat[3] + conf_mat[0]) / (conf_mat[3] + conf_mat[0] + conf_mat[1] + conf_mat[2])\n",
    "\n",
    "\n",
    "def calculate_tpr(conf_mat):\n",
    "    if type(conf_mat) == dict:\n",
    "        return (conf_mat[\"tp\"]) / (conf_mat[\"tp\"] + conf_mat[\"fn\"])\n",
    "    else:\n",
    "        return (conf_mat[3]) / (conf_mat[3] + conf_mat[2])\n",
    "\n",
    "\n",
    "def calculate_tnr(conf_mat):\n",
    "    if type(conf_mat) == dict:\n",
    "        return (conf_mat[\"tn\"]) / (conf_mat[\"tn\"] + conf_mat[\"fp\"]) if conf_mat[\"tn\"] != 0 else 1.0\n",
    "    else:\n",
    "        return (conf_mat[0]) / (conf_mat[0] + conf_mat[1]) if conf_mat[0] != 0 else 1.0"
   ]
  },
  {
   "cell_type": "code",
   "execution_count": null,
   "metadata": {},
   "outputs": [],
   "source": [
    "metrics, models, dataset"
   ]
  },
  {
   "cell_type": "code",
   "execution_count": null,
   "metadata": {},
   "outputs": [],
   "source": [
    "df_performance = pd.DataFrame()\n",
    "values = [3,2,1]\n",
    "values_ascending = dict(enumerate(values, 1))\n",
    "values_descending = dict(enumerate(reversed(values),1))\n",
    "dict_performance_bins = {}\n",
    "#if d == \"only_tumor\":\n",
    "#    df_total = df_total[df_total[\"VS_class_gt\"]==1]\n",
    "df_performance[\"id\"] = [str(idx) for idx in range(len(df_total))]\n",
    "for d in [\"only_tumor\", \"all\"]:\n",
    "    for met in metrics:\n",
    "        df_tmp = pd.DataFrame()\n",
    "        for mod in models:\n",
    "            df_tmp[met+'_'+mod] = df_total[f\"VS_segm_{met}-{mod}\"]\n",
    "            #df_tmp[\"acc_\"+mod] = calculate_accuracy(confusion_matrix(df_total[\"VS_class_gt\"],\n",
    "            #             df_total[f\"VS_class_pred-{mod}\"], \n",
    "            #             labels=[0, 1]).ravel())\n",
    "            #df_tmp[\"tpr_\"+mod] = calculate_tpr(confusion_matrix(df_total[\"VS_class_gt\"],\n",
    "            #             df_total[f\"VS_class_pred-{mod}\"], \n",
    "            #             labels=[0, 1]).ravel())\n",
    "        df_performance[met+'_'+d] = df_tmp.mean(axis=1).values\n",
    "        "
   ]
  },
  {
   "cell_type": "code",
   "execution_count": null,
   "metadata": {},
   "outputs": [],
   "source": [
    "selected_models = models\n",
    "for d in [\"only_tumor\", \"all\"]:\n",
    "    for m in [\"dice\", \"assd\"]:\n",
    "        df_tmp = pd.DataFrame()\n",
    "        for model in selected_models:\n",
    "            df_tmp[m + '_' + model] = df_total[f\"VS_segm_{m}-{model}\"]\n",
    "        df_performance[m + '_' + d] = df_tmp.mean(axis=1).values\n",
    "        bins = np.linspace(np.min(df_performance[m + '_' + d]),\n",
    "                           np.nextafter(np.max(df_performance[m + '_' + d]), np.inf), 4)\n",
    "        if \"assd\" in m:\n",
    "            df_performance[m + '_' + d] = np.vectorize(values_descending.get)(\n",
    "                np.digitize(df_performance[m + '_' + d], bins=bins))\n",
    "        else:\n",
    "            df_performance[m + '_' + d] = np.vectorize(values_ascending.get)(\n",
    "                np.digitize(df_performance[m + '_' + d], bins=bins))\n",
    "        if m + \"_\" + d not in dict_performance_bins.keys():\n",
    "            dict_performance_bins[m + \"_\" + d] = bins.tolist()"
   ]
  },
  {
   "cell_type": "code",
   "execution_count": null,
   "metadata": {},
   "outputs": [],
   "source": [
    "df_performance.head()"
   ]
  },
  {
   "cell_type": "code",
   "execution_count": null,
   "metadata": {},
   "outputs": [],
   "source": [
    "np.unique(df_performance[\"dice_only_tumor\"])"
   ]
  },
  {
   "cell_type": "markdown",
   "metadata": {},
   "source": [
    "## Radiomics features"
   ]
  },
  {
   "cell_type": "code",
   "execution_count": null,
   "metadata": {},
   "outputs": [],
   "source": [
    "with open(f\"/tf/workdir/data/VS_segm/VS_registered/test_processed/vs_gk_{patient_id}/radiomics_2d.json\") as json_file:\n",
    "    df_rad = json.load(json_file)\n",
    "df_rad.keys()"
   ]
  },
  {
   "cell_type": "code",
   "execution_count": null,
   "metadata": {},
   "outputs": [],
   "source": [
    "df_rad"
   ]
  },
  {
   "cell_type": "code",
   "execution_count": null,
   "metadata": {},
   "outputs": [],
   "source": []
  },
  {
   "cell_type": "code",
   "execution_count": null,
   "metadata": {},
   "outputs": [],
   "source": [
    "# regenerate to list of values\n",
    "df_radiomics = {\"id\": list(df_rad.keys())}\n",
    "feature_classes = list(df_rad[list(df_rad.keys())[0]].keys())\n",
    "feature_classes.remove(\"shape2D\")\n",
    "for cl in feature_classes:\n",
    "    cl_dict = {}\n",
    "    for key in df_rad.keys():\n",
    "        cl_dict[key] = df_rad[str(key)][cl]\n",
    "    tmp = {}\n",
    "    for idx, d in cl_dict.items():\n",
    "        for f, vals in d.items():\n",
    "            if f in tmp.keys():\n",
    "                tmp[f] = tmp[f] + [vals]\n",
    "            else:\n",
    "                tmp[f] = [vals]\n",
    "    df_radiomics[cl] = tmp\n",
    "df_radiomics"
   ]
  },
  {
   "cell_type": "code",
   "execution_count": null,
   "metadata": {},
   "outputs": [],
   "source": [
    "df_radiomics.keys()"
   ]
  },
  {
   "cell_type": "code",
   "execution_count": null,
   "metadata": {},
   "outputs": [],
   "source": [
    "# generate signature\n",
    "df_sign = pd.DataFrame(columns=[\"id\"])\n",
    "df_sign[\"id\"] = df_radiomics[\"id\"]\n",
    "for fc in feature_classes:\n",
    "    for key, vals in df_radiomics[fc].items():\n",
    "        vals = [float(v) for v in vals]\n",
    "        if key == \"Skewness\":\n",
    "            df_sign[f\"{fc}-{key}\"] = [1 if a <= 0 else 2 for a in vals]\n",
    "        elif key == \"Kurtosis\":\n",
    "            df_sign[f\"{fc}-{key}\"] = [1 if a <= 3 else 2 for a in vals]\n",
    "        elif key == \"Elongation\":\n",
    "            df_sign[f\"{fc}-{key}\"] = [1 if a <= np.mean(vals) else 2 for a in vals]\n",
    "        elif key == \"Flatness\":\n",
    "            df_sign[f\"{fc}-{key}\"] = [1 if a <= 0.5 else 2 for a in vals]\n",
    "        elif key == \"Sphericity\":\n",
    "            df_sign[f\"{fc}-{key}\"] = [1 if a <= np.mean(vals) else 2 for a in vals]\n",
    "        else:\n",
    "            df_sign[f\"{fc}-{key}\"] = np.digitize(vals, bins=np.linspace(np.min(vals),\n",
    "                                                                   np.nextafter(np.max(vals), np.inf),\n",
    "                                                                   4))"
   ]
  },
  {
   "cell_type": "code",
   "execution_count": null,
   "metadata": {},
   "outputs": [],
   "source": [
    "df_sign"
   ]
  },
  {
   "cell_type": "code",
   "execution_count": null,
   "metadata": {},
   "outputs": [],
   "source": []
  },
  {
   "cell_type": "markdown",
   "metadata": {},
   "source": [
    "## Volume features"
   ]
  },
  {
   "cell_type": "code",
   "execution_count": null,
   "metadata": {},
   "outputs": [],
   "source": [
    "df_volume = pd.DataFrame()\n",
    "df = pd.read_json(f\"/tf/workdir/data/VS_segm/VS_registered/test_processed/vs_gk_{patient_id}/evaluation.json\")\n",
    "for idx, row in df.iterrows():\n",
    "    df_volume = df_volume.append({\"id\": str(row[\"slice\"]),\n",
    "                                 \"tumor_presence\": row[\"VS_class_gt\"],\n",
    "                                 \"tumor_size_px\": np.count_nonzero(cv2.drawContours(np.zeros((256, 256)),\n",
    "               [np.array(s).astype(np.int64) for s in\n",
    "                np.array(row[\"VS_segm_gt\"], dtype=\"object\")], -1, (1),\n",
    "               -1))},\n",
    "                                 ignore_index=True)\n",
    "\n",
    "bins = np.linspace(np.min(df_volume[df_volume[\"tumor_size_px\"] >= 1][\"tumor_size_px\"]), np.nextafter(np.max(df_volume[df_volume[\"tumor_presence\"] >= 1][\"tumor_size_px\"]), np.inf), 4)\n",
    "res = [0]*len(df_volume)\n",
    "res[np.where(df_volume[\"tumor_presence\"] == 1)[0][0]:np.where(df_volume[\"tumor_presence\"] == 1)[0][-1]+1] = np.digitize(df_volume[df_volume[\"tumor_presence\"] == 1][\"tumor_size_px\"], bins=bins)\n",
    "df_volume[\"tumor_size\"] = np.array(res)\n",
    "df_volume.head()"
   ]
  },
  {
   "cell_type": "code",
   "execution_count": null,
   "metadata": {},
   "outputs": [],
   "source": [
    "df_volume.tail()"
   ]
  },
  {
   "cell_type": "code",
   "execution_count": null,
   "metadata": {},
   "outputs": [],
   "source": [
    "np.unique(df_volume[\"tumor_size\"])"
   ]
  },
  {
   "cell_type": "markdown",
   "metadata": {},
   "source": [
    "## merge"
   ]
  },
  {
   "cell_type": "code",
   "execution_count": null,
   "metadata": {},
   "outputs": [],
   "source": [
    "df_new = df_volume.merge(df_performance.merge(df_sign, on=\"id\", how=\"left\"), on=\"id\", how=\"left\")\n",
    "df_new.head()"
   ]
  },
  {
   "cell_type": "code",
   "execution_count": null,
   "metadata": {},
   "outputs": [],
   "source": [
    "df_new.tail()"
   ]
  },
  {
   "cell_type": "code",
   "execution_count": null,
   "metadata": {},
   "outputs": [],
   "source": [
    "df_new[df_new[\"tumor_size_px\"] != 0]"
   ]
  },
  {
   "cell_type": "code",
   "execution_count": null,
   "metadata": {},
   "outputs": [],
   "source": [
    "list(df_new.columns)"
   ]
  },
  {
   "cell_type": "code",
   "execution_count": null,
   "metadata": {},
   "outputs": [],
   "source": []
  },
  {
   "cell_type": "markdown",
   "metadata": {},
   "source": [
    "## Parallel coordinate plot - details"
   ]
  },
  {
   "cell_type": "code",
   "execution_count": null,
   "metadata": {},
   "outputs": [],
   "source": [
    "features = \"shape\"\n",
    "\n",
    "if features == \"firstorder\":\n",
    "    feat_list = [\"Energy\",\"Skewness\",\"Kurtosis\",\"Variance\",\"Range\"] # \"Entropy\", \"Uniformity\"\n",
    "elif features == \"shape\":\n",
    "    feat_list = [\"Elongation\",\"MaximumDiameter\",\"MeshSurface\",\"MajorAxisLength\",\"Perimeter\",]\n",
    "elif features == \"performance\":\n",
    "    feat_list = ['dice_all', 'dice_only_tumor', 'assd_all', 'assd_only_tumor',\n",
    "                   'acc_all', 'acc_only_tumor', 'tnr_all', 'tpr_all',\n",
    "                   'tpr_only_tumor']\n",
    "    feat_list.remove(str(metric+\"_\"+dataset))\n",
    "\n",
    "feat_list"
   ]
  },
  {
   "cell_type": "code",
   "execution_count": null,
   "metadata": {},
   "outputs": [],
   "source": [
    "df_plot = pd.DataFrame()\n",
    "df_plot[\"id\"] = df_new[\"id\"]\n",
    "df_plot[\"tumor_presence\"] = df_new[\"tumor_presence\"]\n",
    "performance_col = metric+\"_\"+dataset\n",
    "df_plot[metric+\"_\"+dataset] = df_new[metric+\"_\"+dataset].values\n",
    "for fk in feat_list:\n",
    "    df_plot[fk] = df_new[[c for c in df_new.columns if fk in c][0]].values\n",
    "df_plot.head()"
   ]
  },
  {
   "cell_type": "code",
   "execution_count": null,
   "metadata": {},
   "outputs": [],
   "source": [
    "plot_cols = df_plot.columns.to_list()\n",
    "plot_cols.remove(\"id\")\n",
    "plot_cols"
   ]
  },
  {
   "cell_type": "raw",
   "metadata": {},
   "source": [
    "lookup_dict = {\"Energy\": dict(ticktext=['large', 'medium', 'small'], categoryarray=[3,2,1]),\n",
    "               #\"Entropy\": dict(ticktext=['large', 'medium', 'small'], categoryarray=[3,2,1]),\n",
    "               \"Skewness\": dict(ticktext=['pos', 'neg'], categoryarray=[2,1]),\n",
    "               \"Kurtosis\": dict(ticktext=['lepto', 'platy'], categoryarray=[2,1]),\n",
    "               #\"Uniformity\": dict(ticktext=['homogen+', 'homogen~','homogen-'], categoryarray=[3,2,1]),\n",
    "               \"Variance\": dict(ticktext=['large', 'medium', 'small'], categoryarray=[3,2,1]),\n",
    "               \"Elongation\": dict(ticktext=['>mean', '<=mean'], categoryarray=[2,1]),\n",
    "               \"Flatness\": dict(ticktext=['non-flat', 'flat'], categoryarray=[2,1]),\n",
    "               \"Sphericity\": dict(ticktext=['>mean', '<=mean'], categoryarray=[2,1]),\n",
    "               \"SurfaceArea\": dict(ticktext=['large', 'medium', 'small'], categoryarray=[3,2,1]),\n",
    "               \"MeshVolume\": dict(ticktext=['large', 'medium', 'small'], categoryarray=[3,2,1]),\n",
    "               \"Range\": dict(ticktext=['large', 'medium', 'small'], categoryarray=[3,2,1]),\n",
    "               \"dice_only_tumor\": dict(ticktext=[\"good\", \"medium\", \"bad\"], categoryarray=[1,2,3],\n",
    "                                      label=\"DSC tumor\"),\n",
    "               \"dice_all\": dict(ticktext=[\"good\", \"medium\", \"bad\"], categoryarray=[1,2,3],\n",
    "                                      label=\"DSC\"),\n",
    "               \"acc_only_tumor\": dict(ticktext=[\"good\", \"medium\", \"bad\"], categoryarray=[1,2,3],\n",
    "                                      label=\"ACC tumor\"),\n",
    "               \"acc_all\": dict(ticktext=[\"good\", \"medium\", \"bad\"], categoryarray=[1,2,3],\n",
    "                                      label=\"ACC\"),\n",
    "               \"assd_only_tumor\": dict(ticktext=[\"good\", \"medium\", \"bad\"], categoryarray=[1,2,3],\n",
    "                                      label=\"ASSD tumor\"),\n",
    "               \"assd_all\": dict(ticktext=[\"good\", \"medium\", \"bad\"], categoryarray=[1,2,3],\n",
    "                                      label=\"ASSD\"),\n",
    "               \"tpr_only_tumor\": dict(ticktext=[\"good\", \"medium\", \"bad\"], categoryarray=[1,2,3],\n",
    "                                      label=\"TPR tumor\"),\n",
    "               \"tpr_all\": dict(ticktext=[\"good\", \"medium\", \"bad\"], categoryarray=[1,2,3],\n",
    "                                      label=\"TPR\"),\n",
    "               #\"tnr_only_tumor\": dict(ticktext=['large', 'medium', 'small'], categoryarray=[3,2,1],\n",
    "               #                       label=\"TNR tumor\"),\n",
    "               \"tnr_all\": dict(ticktext=[\"good\", \"medium\", \"bad\"], categoryarray=[1,2,3],\n",
    "                                      label=\"TNR\")\n",
    "               }"
   ]
  },
  {
   "cell_type": "code",
   "execution_count": null,
   "metadata": {},
   "outputs": [],
   "source": [
    "px.parallel_categories(df_plot)"
   ]
  },
  {
   "cell_type": "code",
   "execution_count": null,
   "metadata": {},
   "outputs": [],
   "source": [
    "df_plot = df_plot.fillna(value=10)"
   ]
  },
  {
   "cell_type": "code",
   "execution_count": null,
   "metadata": {},
   "outputs": [],
   "source": [
    "# Create dimensions\n",
    "perf_dim = []\n",
    "\n",
    "perf_dim.append(go.parcats.Dimension(\n",
    "    values=df_plot[\"tumor_presence\"], label=\"Presence\"\n",
    "))\n",
    "perf_dim.append(go.parcats.Dimension(\n",
    "    values=df_plot[performance_col], label=\"DSC\"#**lookup_dict[performance_col]\n",
    "))\n",
    "\n",
    "feature_dim = []\n",
    "for f in list(df_plot.keys())[2:]:\n",
    "    #if \"label\" in lookup_dict[f].keys():\n",
    "   #     feature_dim.append(go.parcats.Dimension(values=df_plot[f], **lookup_dict[f]))\n",
    "    #else:\n",
    "    feature_dim.append(go.parcats.Dimension(values=df_plot[f], label=f))#, **lookup_dict[f]))\n",
    "print(len(feature_dim))\n",
    "# Create parcats trace\n",
    "color = df_plot[performance_col]\n",
    "colorscale = [[0, 'mediumseagreen'], [1, 'lightsteelblue']];\n",
    "\n",
    "fig = go.Figure(data = [go.Parcats(dimensions=[*perf_dim, *feature_dim],\n",
    "        line={'color': color, 'colorscale': colorscale}, bundlecolors=True,\n",
    "        hoveron='category', hoverinfo='count+probability',\n",
    "                                   arrangement='freeform')])\n",
    "fig.update_layout(margin=dict(l=5,\n",
    "                                      r=5,\n",
    "                                      b=5,\n",
    "                                      t=20,\n",
    "                                      pad=4)\n",
    "                          )\n",
    "fig.show()"
   ]
  },
  {
   "cell_type": "code",
   "execution_count": null,
   "metadata": {},
   "outputs": [],
   "source": []
  },
  {
   "cell_type": "code",
   "execution_count": null,
   "metadata": {},
   "outputs": [],
   "source": []
  }
 ],
 "metadata": {
  "kernelspec": {
   "display_name": "Python 3",
   "language": "python",
   "name": "python3"
  },
  "language_info": {
   "codemirror_mode": {
    "name": "ipython",
    "version": 3
   },
   "file_extension": ".py",
   "mimetype": "text/x-python",
   "name": "python",
   "nbconvert_exporter": "python",
   "pygments_lexer": "ipython3",
   "version": "3.6.9"
  }
 },
 "nbformat": 4,
 "nbformat_minor": 2
}
