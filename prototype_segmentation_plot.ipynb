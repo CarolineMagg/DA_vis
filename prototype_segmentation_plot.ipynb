{
 "cells": [
  {
   "cell_type": "markdown",
   "metadata": {},
   "source": [
    "# Visual Assessment\n",
    "\n",
    "Slice plot for\n",
    "* 1 slice - 1 models\n",
    "* 1 slice - N models (sum + subtraction)"
   ]
  },
  {
   "cell_type": "code",
   "execution_count": null,
   "metadata": {},
   "outputs": [],
   "source": [
    "%config Completer.use_jedi = False\n",
    "%matplotlib inline"
   ]
  },
  {
   "cell_type": "code",
   "execution_count": null,
   "metadata": {},
   "outputs": [],
   "source": [
    "import numpy as np\n",
    "import pandas as pd\n",
    "import cv2\n",
    "import copy\n",
    "import time\n",
    "import ast\n",
    "import json\n",
    "import tensorflow as tf"
   ]
  },
  {
   "cell_type": "code",
   "execution_count": null,
   "metadata": {},
   "outputs": [],
   "source": [
    "from sklearn.metrics import confusion_matrix\n",
    "import plotly.express as px\n",
    "import plotly.graph_objects as go\n",
    "from plotly.subplots import make_subplots\n",
    "import plotly.figure_factory as ff\n",
    "from plotly.colors import n_colors"
   ]
  },
  {
   "cell_type": "code",
   "execution_count": null,
   "metadata": {},
   "outputs": [],
   "source": [
    "import sys\n",
    "import os\n",
    "\n",
    "sys.path.append(os.path.abspath('../data_utils'))\n",
    "sys.path.append(os.path.abspath('../models'))"
   ]
  },
  {
   "cell_type": "code",
   "execution_count": null,
   "metadata": {},
   "outputs": [],
   "source": [
    "from model_zoo.utils import check_gpu\n",
    "from model_zoo.losses.dice import DiceLoss, DiceCoefficient\n",
    "from data_utils.DataContainer import DataContainer\n",
    "from data_utils.TestSet import TestSet"
   ]
  },
  {
   "cell_type": "code",
   "execution_count": null,
   "metadata": {},
   "outputs": [],
   "source": [
    "import logging\n",
    "logging.basicConfig(level=logging.INFO)"
   ]
  },
  {
   "cell_type": "markdown",
   "metadata": {},
   "source": [
    "# TestSet"
   ]
  },
  {
   "cell_type": "code",
   "execution_count": null,
   "metadata": {},
   "outputs": [],
   "source": [
    "MODELS_SIMPLE1 = [\"XNet_T2_relu\", \"XNet_T2_leaky\", \"XNet_T2_selu\"]\n",
    "MODELS_SIMPLE2 = [\"XNet_T1_relu\", \"XNet_T1_leaky\", \"XNet_T1_selu\"]\n",
    "MODELS_SIMPLE = [*MODELS_SIMPLE2, *MODELS_SIMPLE1]\n",
    "MODELS_CG = [\"CG_XNet_T1_relu\", \"CG_XNet_T2_relu\"]\n",
    "MODELS_DA = [\"SegmS2T_GAN1_relu\", \"SegmS2T_GAN2_relu\", \"SegmS2T_GAN5_relu\"]\n",
    "MODELS_GAN = [\"GAN_1+XNet_T1_relu\", \"GAN_2+XNet_T1_relu\", \"GAN_5+XNet_T1_relu\"]\n",
    "MODELS = [*MODELS_SIMPLE, *MODELS_CG, *MODELS_GAN, *MODELS_DA]\n",
    "MODELS_BASELINE = [*MODELS_SIMPLE, *MODELS_CG]\n",
    "MODELS_DA = [*MODELS_DA, *MODELS_GAN]"
   ]
  },
  {
   "cell_type": "code",
   "execution_count": null,
   "metadata": {},
   "outputs": [],
   "source": [
    "testset = TestSet(\"/tf/workdir/data/VS_segm/VS_registered/test_processed/\", load=True)"
   ]
  },
  {
   "cell_type": "code",
   "execution_count": null,
   "metadata": {},
   "outputs": [],
   "source": [
    "df_total = testset.df_total\n",
    "intermediate = df_total.to_json()\n",
    "df_total = pd.read_json(intermediate)"
   ]
  },
  {
   "cell_type": "code",
   "execution_count": null,
   "metadata": {},
   "outputs": [],
   "source": [
    "df_total"
   ]
  },
  {
   "cell_type": "markdown",
   "metadata": {},
   "source": [
    "# First 1 slice - 1 method plot"
   ]
  },
  {
   "cell_type": "code",
   "execution_count": null,
   "metadata": {},
   "outputs": [],
   "source": [
    "patient_id = 200\n",
    "slide = 32\n",
    "model = \"XNet_T2_relu\""
   ]
  },
  {
   "cell_type": "code",
   "execution_count": null,
   "metadata": {},
   "outputs": [],
   "source": [
    "df = pd.read_json(f\"/tf/workdir/data/VS_segm/VS_registered/test_processed/vs_gk_{patient_id}/evaluation.json\")\n",
    "container = DataContainer(f\"/tf/workdir/data/VS_segm/VS_registered/test_processed/vs_gk_{patient_id}/\")\n",
    "img = container.t2_scan_slice(slide)\n",
    "segm = cv2.drawContours(np.zeros((256,256)), np.array(df.iloc[slide][f\"VS_segm_pred-{model}\"]), -1, (1), 1)\n",
    "gt = cv2.drawContours(np.zeros((256,256)), np.array(df.iloc[slide][f\"VS_segm_gt\"]), -1, (1), -1)"
   ]
  },
  {
   "cell_type": "code",
   "execution_count": null,
   "metadata": {},
   "outputs": [],
   "source": [
    "df_2d = pd.DataFrame(columns=[\"slice\", \"gt\", \"pred\", \"img\", \"class\"])\n",
    "df_2d = df_2d.append({\"slice\": slide, \"img\": img, \"gt\": gt, \n",
    "                      \"pred\": segm, \"class\": df.iloc[slide][f\"VS_class_pred-{model}\"]},\n",
    "                    ignore_index=True)"
   ]
  },
  {
   "cell_type": "code",
   "execution_count": null,
   "metadata": {},
   "outputs": [],
   "source": [
    "colorscale_segm = [[0, 'rgba(0,0,0,0)'],\n",
    "                 [0.99, 'rgba(0,0,0,0)'],\n",
    "                 [1.0, 'rgba(255,0,0,1)']]  # 165,0,38,1 - RdYlBu[0]\n",
    "colorscale_gt = [[0, 'rgba(0,0,0,0)'],\n",
    "                 [0.99, 'rgba(0,0,0,0)'],\n",
    "                 [1, 'rgba(0,0,0,1)']] # 49,54,149,1 - RdYlBu[-1], rgba(240,249,33,1)"
   ]
  },
  {
   "cell_type": "code",
   "execution_count": null,
   "metadata": {},
   "outputs": [],
   "source": [
    "fig_total = make_subplots(1,2, column_widths=[0.9,0.1], horizontal_spacing=0.05)\n",
    "fig = go.Figure() # make_subplots(1,2)\n",
    "fig_img = px.imshow(img, binary_string=True)\n",
    "fig.add_trace(fig_img.data[0]) # ,1,1)\n",
    "fig.update_traces(opacity=1.0)\n",
    "fig.update_xaxes(showticklabels=False)\n",
    "fig.update_yaxes(showticklabels=False)\n",
    "fig.add_heatmap(z=gt, hoverinfo=\"skip\", showscale=False, colorscale=colorscale_gt, \n",
    "                opacity=0.8, name=\"gt\") # ,row=1,col=1)\n",
    "fig.add_heatmap(z=segm, hoverinfo=\"skip\", showscale=False, colorscale=colorscale_segm, \n",
    "                opacity=0.5, name=\"segm\") # ,row=1, col=1)\n",
    "fig.update_layout(margin=dict(l=5,\n",
    "                              r=5,\n",
    "                              b=5,\n",
    "                              t=5,\n",
    "                              pad=4)\n",
    "                  )\n",
    "#fig.update_traces(colorbar=dict(visible=False), selector=dict(type='heatmap'))\n",
    "#fig.update_traces(colorbar=dict(\n",
    "#    title=\"Contours\", tickmode=\"array\", ticktext =[\"gt\", \"pred\"], tickvals = [0.9,1]), selector=dict(type='heatmap'))                                     "
   ]
  },
  {
   "cell_type": "markdown",
   "metadata": {},
   "source": [
    "# First 1 slice - N Methods - Sum"
   ]
  },
  {
   "cell_type": "code",
   "execution_count": null,
   "metadata": {},
   "outputs": [],
   "source": [
    "patient_id = 241\n",
    "slide = 29\n",
    "model = [\"XNet_T2_relu\", \"XNet_T2_leaky\", \"XNet_T2_selu\", \"CG_XNet_T2_relu\",\"XNet_T2_leaky\", \"XNet_T2_selu\", \"CG_XNet_T2_relu\"]"
   ]
  },
  {
   "cell_type": "code",
   "execution_count": null,
   "metadata": {},
   "outputs": [],
   "source": [
    "df = pd.read_json(f\"/tf/workdir/data/VS_segm/VS_registered/test_processed/vs_gk_{patient_id}/evaluation.json\")\n",
    "container = DataContainer(f\"/tf/workdir/data/VS_segm/VS_registered/test_processed/vs_gk_{patient_id}/\")\n",
    "img = container.t2_scan_slice(slide)\n",
    "gt = cv2.drawContours(np.zeros((256,256)), np.array(df.iloc[slide][f\"VS_segm_gt\"]), -1, (1), 1)\n",
    "segmentation = []\n",
    "for m in model:\n",
    "    segm = cv2.drawContours(np.zeros((256,256)), [np.array(s).astype(np.int64) for s in np.array(df.iloc[slide][f\"VS_segm_pred-{m}\"], dtype=\"object\")], -1, (1), -1)\n",
    "    segmentation.append(segm)\n",
    "segm_sum = (np.sum(segmentation, axis=0))\n",
    "z_max = len(segmentation)"
   ]
  },
  {
   "cell_type": "raw",
   "metadata": {},
   "source": [
    "info_dict = {\"slice\": slide,\n",
    "             \"patient_id\": patient_id,\n",
    "             \"selected_models\": model,\n",
    "             \"z_max\": z_max,\n",
    "             \"img\": img.tolist(),\n",
    "             \"segm_sum\": segm_sum.tolist(),\n",
    "             #\"segm_subtract\": segm_subtract,\n",
    "             \"gt_contour\": gt.tolist()}\n",
    "\n",
    "tmp = json.dumps(info_dict)\n",
    "info_d = json.loads(tmp)\n",
    "\n",
    "np.array(info_d[\"img\"])"
   ]
  },
  {
   "cell_type": "code",
   "execution_count": null,
   "metadata": {},
   "outputs": [],
   "source": [
    "bvals = list(range(0, z_max+1,1))\n",
    "nvals = [(v-bvals[0])/(bvals[-1]-bvals[0]) for v in bvals] \n",
    "\n",
    "red = n_colors('rgba(253,219,199)', 'rgba(103,0,31)', z_max, colortype='rgb')\n",
    "\n",
    "colors = red\n",
    "colors = [c.replace(\"rgb\",\"rgba\").replace(\")\",\",1)\") if \"rgba\" not in c else c for c in colors]\n",
    "\n",
    "dcolorscale = [] #discrete colorscale\n",
    "for k in range(len(colors)):\n",
    "    dcolorscale.extend([[nvals[k], colors[k]], [nvals[k+1], colors[k]]])"
   ]
  },
  {
   "cell_type": "code",
   "execution_count": null,
   "metadata": {},
   "outputs": [],
   "source": [
    "bvals2 = np.array(bvals)\n",
    "if len(model) < 5:\n",
    "    tickvals = np.linspace(-len(segmentation)+1,len(segmentation)-1,len(colors)).tolist() #[np.mean(bvals[k:k+2]) for k in range(len(bvals)-1)] # \n",
    "elif len(model) >= 5:\n",
    "    tickvals = np.linspace(-len(segmentation)+1,len(segmentation)-1,len(colors)).tolist()\n",
    "ticktext = [f\"{k}\"for k in bvals2[1:]]\n",
    "tickvals, ticktext"
   ]
  },
  {
   "cell_type": "raw",
   "metadata": {},
   "source": [
    "bvals2 = np.array(bvals)\n",
    "tickvals = np.linspace(-len(segmentation)+1,len(segmentation)-1,len(colors)).tolist() #[np.mean(bvals[k:k+2]) for k in range(len(bvals)-1)]  \n",
    "ticktext = [f\"{k}\"for k in bvals2[1:]]\n",
    "tickvals, ticktext"
   ]
  },
  {
   "cell_type": "code",
   "execution_count": null,
   "metadata": {},
   "outputs": [],
   "source": [
    "segm = segm_sum\n",
    "segm[segm == 0] = None\n",
    "hovertext = list()\n",
    "for yi, yy in enumerate(segm):\n",
    "    hovertext.append(list())\n",
    "    for xi, xx in enumerate(segm[0]):\n",
    "        hovertext[-1].append('value: {}'.format(segm[yi][xi]))"
   ]
  },
  {
   "cell_type": "code",
   "execution_count": null,
   "metadata": {},
   "outputs": [],
   "source": [
    "fig_total = make_subplots(1,2, column_widths=[0.9,0.1], horizontal_spacing=0.05)\n",
    "fig = go.Figure() \n",
    "fig_img = px.imshow(img, binary_string=True)\n",
    "fig.add_trace(fig_img.data[0]) \n",
    "fig.update_traces(hovertemplate=None, hoverinfo=\"skip\")\n",
    "fig.update_traces(opacity=1.0)\n",
    "fig.update_xaxes(showticklabels=False)\n",
    "fig.update_yaxes(showticklabels=False)\n",
    "fig.add_heatmap(z=segm, showscale=True, colorscale=dcolorscale, \n",
    "                zmid=0, hoverinfo='text', text=hovertext, hoverongaps=False,\n",
    "                colorbar = dict(thickness=30, tickvals=tickvals, ticktext=ticktext),\n",
    "                opacity=0.9, name=\"segm\")\n",
    "fig.update_layout(margin=dict(l=5, r=2, b=5, t=5, pad=4))"
   ]
  },
  {
   "cell_type": "markdown",
   "metadata": {},
   "source": [
    "# Second 1 slice - N models - Subtraction"
   ]
  },
  {
   "cell_type": "code",
   "execution_count": null,
   "metadata": {},
   "outputs": [],
   "source": [
    "patient_id = 246\n",
    "slide = 38\n",
    "model = [\"XNet_T2_relu\", \"XNet_T2_leaky\", \"XNet_T2_selu\", \"CG_XNet_T2_relu\", \"CG_XNet_T1_relu\", \"XNet_T2_relu\",\n",
    "        \"XNet_T2_relu\"]\n",
    "len(model)"
   ]
  },
  {
   "cell_type": "code",
   "execution_count": null,
   "metadata": {},
   "outputs": [],
   "source": [
    "df = pd.read_json(f\"/tf/workdir/data/VS_segm/VS_registered/test_processed/vs_gk_{patient_id}/evaluation.json\")\n",
    "container = DataContainer(f\"/tf/workdir/data/VS_segm/VS_registered/test_processed/vs_gk_{patient_id}/\")\n",
    "img = container.t2_scan_slice(slide)\n",
    "segmentation = []\n",
    "for m in model:\n",
    "    segm = cv2.drawContours(np.zeros((256,256)), [np.array(s) for s in np.array(df.iloc[slide][f\"VS_segm_pred-{m}\"])], -1, (1), -1)\n",
    "    segmentation.append(segm)\n",
    "segm_sum = (np.sum(segmentation, axis=0))\n",
    "gt = cv2.drawContours(np.zeros((256,256)), np.array(df.iloc[slide][f\"VS_segm_gt\"]), -1, (len(segmentation)), -1)\n",
    "segm_subtract = gt-segm_sum\n",
    "z_max = len(segmentation)"
   ]
  },
  {
   "cell_type": "code",
   "execution_count": null,
   "metadata": {},
   "outputs": [],
   "source": [
    "bvals = list(range(-z_max-1, z_max+1,1))\n",
    "nvals = [(v-bvals[0])/(bvals[-1]-bvals[0]) for v in bvals] \n",
    "\n",
    "red = n_colors('rgba(253,219,199)', 'rgba(103,0,31)', z_max, colortype='rgb')\n",
    "blue = n_colors('rgb(5,48,97)', 'rgb(209,229,240)', z_max, colortype='rgb')\n",
    "\n",
    "colors = blue + ['rgba(255,255,255,0)'] + red\n",
    "colors = [c.replace(\"rgb\",\"rgba\").replace(\")\",\",1)\") if \"rgba\" not in c else c for c in colors]\n",
    "\n",
    "dcolorscale = [] #discrete colorscale\n",
    "for k in range(len(colors)):\n",
    "    dcolorscale.extend([[nvals[k], colors[k]], [nvals[k+1], colors[k]]])"
   ]
  },
  {
   "cell_type": "code",
   "execution_count": null,
   "metadata": {},
   "outputs": [],
   "source": [
    "bvals2 = np.array(bvals)\n",
    "if len(model) < 5:\n",
    "    tickvals = np.linspace(-len(segmentation)+0.5,len(segmentation)-0.5,len(colors)).tolist() #[np.mean(bvals[k:k+2]) for k in range(len(bvals)-1)] # \n",
    "elif len(model) >= 5:\n",
    "    tickvals = np.linspace(-len(segmentation)+1.5,len(segmentation)-1.5,len(colors)).tolist()\n",
    "ticktext = [f\"{k}\"for k in bvals2[1:]]"
   ]
  },
  {
   "cell_type": "code",
   "execution_count": null,
   "metadata": {},
   "outputs": [],
   "source": [
    "segm_subtract[segm_subtract == 0] = None\n",
    "hovertext = list()\n",
    "for yi, yy in enumerate(segm_subtract):\n",
    "    hovertext.append(list())\n",
    "    for xi, xx in enumerate(segm_subtract[0]):\n",
    "        hovertext[-1].append('value: {}'.format(segm_subtract[yi][xi]))"
   ]
  },
  {
   "cell_type": "code",
   "execution_count": null,
   "metadata": {},
   "outputs": [],
   "source": [
    "fig_total = make_subplots(1,2, column_widths=[0.9,0.1], horizontal_spacing=0.05)\n",
    "fig = go.Figure() \n",
    "fig_img = px.imshow(img, binary_string=True)\n",
    "fig.add_trace(fig_img.data[0]) \n",
    "fig.update_traces(hovertemplate=None, hoverinfo=\"skip\")\n",
    "fig.update_traces(opacity=1.0)\n",
    "fig.update_xaxes(showticklabels=False)\n",
    "fig.update_yaxes(showticklabels=False)\n",
    "fig.add_heatmap(z=segm_subtract, showscale=True, colorscale=dcolorscale, \n",
    "                zmid=0, hoverinfo='text', text=hovertext, hoverongaps=False,\n",
    "                colorbar = dict(thickness=30, tickvals=tickvals, ticktext=ticktext),\n",
    "                opacity=0.8, name=\"segm\")\n",
    "fig.update_layout(margin=dict(l=5, r=2, b=5, t=5, pad=4))"
   ]
  },
  {
   "cell_type": "code",
   "execution_count": null,
   "metadata": {},
   "outputs": [],
   "source": []
  }
 ],
 "metadata": {
  "kernelspec": {
   "display_name": "Python 3",
   "language": "python",
   "name": "python3"
  },
  "language_info": {
   "codemirror_mode": {
    "name": "ipython",
    "version": 3
   },
   "file_extension": ".py",
   "mimetype": "text/x-python",
   "name": "python",
   "nbconvert_exporter": "python",
   "pygments_lexer": "ipython3",
   "version": "3.6.9"
  }
 },
 "nbformat": 4,
 "nbformat_minor": 2
}
